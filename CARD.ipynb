{
 "cells": [
  {
   "cell_type": "code",
   "execution_count": 1,
   "metadata": {
    "collapsed": false
   },
   "outputs": [
    {
     "name": "stdout",
     "output_type": "stream",
     "text": [
      "bash: E: command not found...\r\n"
     ]
    }
   ],
   "source": [
    "# Give an overview about CARD \n",
    "## downlod database\n",
    "## create blast databases\n",
    "## create blast \n",
    "## run blast database\n",
    "## check quality of ARG\n",
    "## report good quality ARG. "
   ]
  },
  {
   "cell_type": "code",
   "execution_count": null,
   "metadata": {
    "collapsed": true
   },
   "outputs": [],
   "source": [
    "# getting and installing\n",
    "cd $ASM/Databases\n",
    "mkdir CARD\n",
    "cd CARD\n",
    "\n",
    "mkdir RawData\n",
    "cd RawData\n",
    "\n",
    "wget https://card.mcmaster.ca/download/0/broadstreet-v1.1.8.tar.gz\n",
    "\n",
    "tar -xvf broadstreet-v1.1.8.tar.gz \n",
    "\n",
    "\n",
    "\n"
   ]
  },
  {
   "cell_type": "code",
   "execution_count": 2,
   "metadata": {
    "collapsed": false
   },
   "outputs": [
    {
     "name": "stdout",
     "output_type": "stream",
     "text": [
      "--2017-05-16 15:40:16--  https://card.mcmaster.ca/download/0/broadstreet-v1.1.8.tar.gz\r\n",
      "Resolving card.mcmaster.ca (card.mcmaster.ca)... 130.113.77.126\r\n",
      "Connecting to card.mcmaster.ca (card.mcmaster.ca)|130.113.77.126|:443... connected.\r\n",
      "HTTP request sent, awaiting response... 200 OK\r\n",
      "Length: 2365696 (2.3M) [application/x-bzip2]\r\n",
      "Saving to: ‘broadstreet-v1.1.8.tar.gz.1’\r\n",
      "\r\n",
      "\r",
      "          broadstre   0%[                    ]       0  --.-KB/s               \r",
      "         broadstree   1%[                    ]  40.00K   179KB/s               \r",
      "        broadstreet   8%[>                   ] 200.00K   449KB/s               \r",
      "       broadstreet-  36%[======>             ] 840.00K  1.23MB/s               \r",
      "broadstreet-v1.1.8. 100%[===================>]   2.26M  2.87MB/s    in 0.8s    \r\n",
      "\r\n",
      "2017-05-16 15:40:19 (2.87 MB/s) - ‘broadstreet-v1.1.8.tar.gz.1’ saved [2365696/2365696]\r\n",
      "\r\n"
     ]
    }
   ],
   "source": [
    "## compile all data together and build blast database"
   ]
  },
  {
   "cell_type": "code",
   "execution_count": null,
   "metadata": {
    "collapsed": true
   },
   "outputs": [],
   "source": [
    "cat nucleotide_fasta_*pro*homo* > ../All.CARD.NA.fa\n",
    "cat protein_fasta_* > ../All.CARD.AA.fa\n",
    "mkdir blastNA blastAA\n",
    "\n",
    "\n",
    "## compiling blast protein database for CARD\n",
    "cd blastAA\n",
    "\n",
    "$blastExecFolder/makeblastdb -in ../All.CARD.AA.fa -title CARDProt \\\n",
    "-out CARDProt -input_type fasta   -hash_index -dbtype prot\n",
    "\n",
    "echo \"export CARDProt=$(pwd)/CARDProt\" >> ~/.bashrc\n",
    "tail -n 1 ~/.bashrc\n",
    "source ~/.bashrc\n",
    "\n",
    "cd ..\n",
    "\n",
    "## compiling blast Nucleotides database for CARD\n",
    "cd blastNA\n",
    "\n",
    "$blastExecFolder/makeblastdb -in ../All.CARD.NA.fa -title CARDNucl \\\n",
    "-out CARDNucl -input_type fasta   -hash_index -dbtype nucl\n",
    "\n",
    "echo \"export CARDNucl=$(pwd)/CARDNucl\" >> ~/.bashrc\n",
    "tail -n 1 ~/.bashrc\n",
    "source ~/.bashrc\n",
    "\n",
    "\n",
    "\n"
   ]
  },
  {
   "cell_type": "code",
   "execution_count": null,
   "metadata": {
    "collapsed": true
   },
   "outputs": [],
   "source": [
    "## Run CARD databses\n",
    "\n",
    "cd $ASM/Data\n",
    "mkdir CARD\n",
    "cd CARD\n",
    "## nucleotide versus card nucleotide\n",
    "$blastExecFolder/blastn -query ../orfs.nucleotide.fa -db $CARDNuc -outfmt 6 \\\n",
    " -max_target_seqs 10 -evalue 1E-50 -word_size 6 -num_threads 28 -out orf.card.NA.versus.NA.tab \n",
    " \n",
    " \n",
    "## protein versus card nucleotide\n",
    "$blastExecFolder/tblastn -query ../orfs.protein.fa -db $CARDNuc -outfmt 6 \\\n",
    " -max_target_seqs 10 -evalue 1E-50 -word_size 6 -num_threads 28 -out orf.card.AA.versus.NA.tab \n",
    " \n",
    " \n",
    "## protein versus card protein\n",
    "$blastExecFolder/blastp -query ../orfs.protein.fa -db $CARDProt -outfmt 6 \\\n",
    " -max_target_seqs 10 -evalue 1E-50 -word_size 6 -num_threads 28  -out orf.card.AA.versus.AA.tab \n",
    " \n",
    "## nucleotide versus card protein\n",
    "## translaste sequence\n",
    "## $Emboss/transeq -in  ../orfs.nucleotide.fa -frame [1,6] ../orfs.protein.t1.fa\n",
    "\n",
    "$blastExecFolder/blastp -query  ../orfs.protein.t1.fa -db $CARDProt -outfmt 6 \\\n",
    " -max_target_seqs 10 -evalue 1E-50 -word_size 6 -num_threads 28  -out orf.card.AA.versus.AA.tab "
   ]
  },
  {
   "cell_type": "code",
   "execution_count": null,
   "metadata": {
    "collapsed": true
   },
   "outputs": [],
   "source": [
    "## try to map the card ouput gene to specific class\n",
    "## "
   ]
  }
 ],
 "metadata": {
  "kernelspec": {
   "display_name": "Bash",
   "language": "bash",
   "name": "bash"
  },
  "language_info": {
   "codemirror_mode": "shell",
   "file_extension": ".sh",
   "mimetype": "text/x-sh",
   "name": "bash"
  }
 },
 "nbformat": 4,
 "nbformat_minor": 0
}
