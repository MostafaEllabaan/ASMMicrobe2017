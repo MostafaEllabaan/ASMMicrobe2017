{
 "cells": [
  {
   "cell_type": "markdown",
   "metadata": {},
   "source": [
    "# GENMARKS and ORF Identification"
   ]
  },
  {
   "cell_type": "code",
   "execution_count": 1,
   "metadata": {
    "collapsed": false
   },
   "outputs": [
    {
     "name": "stdout",
     "output_type": "stream",
     "text": []
    }
   ],
   "source": [
    "# give little history about GENMARKS and different version \n",
    "# how it works etc. "
   ]
  },
  {
   "cell_type": "markdown",
   "metadata": {},
   "source": [
    "## hands-experience on part "
   ]
  },
  {
   "cell_type": "markdown",
   "metadata": {},
   "source": [
    "### Installing GENMarks\n"
   ]
  },
  {
   "cell_type": "raw",
   "metadata": {},
   "source": [
    "# Go to http://exon.gatech.edu/Genemark/ and search for programs and click \n",
    "on the  link it will take you to \n",
    "http://exon.gatech.edu/Genemark/license_download.cgi\n",
    "\n",
    "Select  GeneMarkS v.4.30 and LINUX 64 and fill the form\n",
    "\n",
    "then click on the button \"I agree to the terms of this license agreement\"\n",
    "\n",
    "Download both the program and the key\n"
   ]
  },
  {
   "cell_type": "code",
   "execution_count": null,
   "metadata": {
    "collapsed": true
   },
   "outputs": [],
   "source": [
    "cd $ASM/Programs\n",
    "mkdir GenMarkS\n",
    "cd GenMarkS\n",
    "## copy link address of the download program here\n",
    "## and wget it \n",
    "wget http://topaz.gatech.edu/GeneMark/tmp/GMtool_ZH3mh/gm_key_64.gz\n",
    "## copy link address of the key using 64_bit version\n",
    "wget http://topaz.gatech.edu/GeneMark/tmp/GMtool_ZH3mh/genemark_suite_linux_64.tar.gz\n",
    "\n",
    "## extract both the program and the key. \n",
    "tar -xvf genemark_suite_linux_64.tar.gz \n",
    "gzip -d gm_key_64.gz\n",
    "\n",
    "\n",
    "## copy genmarks key to the home directory\n",
    "cp gm_key_64 ~/.gm_key\n",
    "\n",
    "## \n",
    "\n",
    "cd genemark_suite_linux_64/gmsuite\n",
    "ls \n",
    "## you should observe the \n",
    "\n",
    "## In the scope of this work shop we will use this command gmhmmp mainly.\n",
    "\n",
    "## Create an Alias to simplify the job\n",
    "\n",
    "echo \"export gmsuite=$(pwd)\" >> ~/.bashrc\n",
    "echo \"alias getORFUsingGeneMarks=$(pwd)/gmhmmp\" >> ~/.bashrc\n",
    "\n",
    "## to see whether the alias is there or not. \n",
    "##tail -n 5 ~/.bashrc\n",
    "\n",
    "## to make the effect run. \n",
    "source ~/.bashrc\n",
    "\n",
    "\n"
   ]
  },
  {
   "cell_type": "markdown",
   "metadata": {},
   "source": [
    "### RUNNING GENMARKS and Extracting ORFS\n"
   ]
  },
  {
   "cell_type": "code",
   "execution_count": 8,
   "metadata": {
    "collapsed": false
   },
   "outputs": [
    {
     "name": "stdout",
     "output_type": "stream",
     "text": []
    }
   ],
   "source": [
    "\n",
    "## to see options available just write this \n",
    "cd $ASM/Data\n",
    "\n",
    "## put the orginal file on the web.\n",
    "\n",
    "wget $address\n",
    "\n",
    "getORFUsingGeneMarks -m $gmsuite/MetaGeneMark_v1.mod \\\n",
    "-A orfs.protein.fa -D orfs.nucleotide.fa -o all.orfs.result gud_np.fa\n",
    "\n",
    "cat orfs.nucleotide.fa \n",
    "cat orfs.protein.fa \n",
    "\n",
    "## barcodeing the genes for both protein and nucleotide.\n",
    "\n",
    "## coding genes\n",
    "\n",
    "\n",
    "## to know how many orfs are there\n",
    "\n",
    "grep \">\"  orfs.protein.fa  | wc -l \n",
    "\n",
    "## or \n",
    "\n",
    "grep \">\"  orfs.nucleotide.fa | wc -l\n",
    "\n",
    "\n",
    "## OPTIONAL \n",
    "\n",
    "cat orfs.nucleotide.fa | sed 's/%//g' | \n",
    "awk -F\"\\n\" '{if( index($1,\">\") > 0) {printf \"\\n\"$1\"\\t\"} else {printf $1}}' | \n",
    "awk -F\" \" '{print substr($1,2,length($1))\"\\t\"$0}' | awk '{print $0}' | \n",
    "awk -F\"\\t\" 'BEGIN {print \"ORFID\\tGENMarksORFID\\tDescription\\tsequence\"}\n",
    "{if(FNR>1) print \"ORFID\"FNR-1\"\\t\"$0}' > orfs.nucleotide.tab\n",
    "\n",
    "cat  orfs.protein.fa | sed 's/%//g' | \n",
    "awk -F\"\\n\" '{if( index($1,\">\") > 0) {printf \"\\n\"$1\"\\t\"} else {printf $1}}' | \n",
    "awk -F\" \" '{print substr($1,2,length($1))\"\\t\"$0}' | awk '{print $0}' | \n",
    "awk -F\"\\t\" ' BEGIN {print \"ORFID\\tGENMarksORFID\\tDescription\\tsequence\"}\n",
    "{if(FNR>1) print \"ORFID\"FNR-1\"\\t\"$0}' > orfs.protein.tab\n",
    "\n"
   ]
  },
  {
   "cell_type": "code",
   "execution_count": null,
   "metadata": {
    "collapsed": true
   },
   "outputs": [],
   "source": []
  }
 ],
 "metadata": {
  "kernelspec": {
   "display_name": "Bash",
   "language": "bash",
   "name": "bash"
  },
  "language_info": {
   "codemirror_mode": "shell",
   "file_extension": ".sh",
   "mimetype": "text/x-sh",
   "name": "bash"
  }
 },
 "nbformat": 4,
 "nbformat_minor": 0
}
