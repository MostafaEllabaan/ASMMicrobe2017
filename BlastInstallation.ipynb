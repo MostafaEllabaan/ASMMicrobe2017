{
 "cells": [
  {
   "cell_type": "markdown",
   "metadata": {},
   "source": [
    "# INSTALL AND RUN BLAST"
   ]
  },
  {
   "cell_type": "raw",
   "metadata": {},
   "source": [
    "To download blast visit page \n",
    "\n",
    "https://blast.ncbi.nlm.nih.gov/Blast.cgi?CMD=Web&PAGE_TYPE=BlastDocs&DOC_TYPE=Download\n",
    "\n",
    "ftp://ftp.ncbi.nlm.nih.gov/blast/executables/blast+/LATEST/\n"
   ]
  },
  {
   "cell_type": "code",
   "execution_count": 4,
   "metadata": {
    "collapsed": false
   },
   "outputs": [
    {
     "name": "stdout",
     "output_type": "stream",
     "text": [
      "mkdir: cannot create directory ‘blast’: File exists\r\n"
     ]
    }
   ],
   "source": [
    "cd $ASM/Programs\n",
    "mkdir blast\n",
    "cd blast\n",
    "\n",
    "\n",
    "## download latest version of blast\n",
    "wget ftp://ftp.ncbi.nlm.nih.gov/blast/executables/blast+/2.6.0/ncbi-blast-2.6.0+-src.tar.gz\n",
    "## download md5 signature to confirm that you download the blast completely and nothing is missing\n",
    "wget ftp://ftp.ncbi.nlm.nih.gov/blast/executables/blast+/2.6.0/ncbi-blast-2.6.0+-src.tar.gz.md5\n",
    "\n",
    "\n",
    "## check the signature if it is work\n",
    "md5sum --check ncbi-blast-2.6.0+-src.tar.gz.md5 \n",
    "## you should see \"ncbi-blast-2.6.0+-src.tar.gz: OK\"\n",
    "\n"
   ]
  },
  {
   "cell_type": "code",
   "execution_count": 2,
   "metadata": {
    "collapsed": false
   },
   "outputs": [
    {
     "name": "stdout",
     "output_type": "stream",
     "text": [
      "--2017-05-16 15:14:47--  ftp://ftp.ncbi.nlm.nih.gov/blast/executables/blast+/2.6.0/ncbi-blast-2.6.0+-src.tar.gz\r\n",
      "           => ‘ncbi-blast-2.6.0+-src.tar.gz.1’\r\n",
      "Resolving ftp.ncbi.nlm.nih.gov (ftp.ncbi.nlm.nih.gov)... 130.14.250.11, 2607:f220:41e:250::11\r\n",
      "Connecting to ftp.ncbi.nlm.nih.gov (ftp.ncbi.nlm.nih.gov)|130.14.250.11|:21... connected.\r\n",
      "Logging in as anonymous ... Logged in!\r\n",
      "==> SYST ... done.    ==> PWD ... done.\r\n",
      "==> TYPE I ... done.  ==> CWD (1) /blast/executables/blast+/2.6.0 ... done.\r\n",
      "==> SIZE ncbi-blast-2.6.0+-src.tar.gz ... 20025526\r\n",
      "==> PASV ... done.    ==> RETR ncbi-blast-2.6.0+-src.tar.gz ... done.\r\n",
      "Length: 20025526 (19M) (unauthoritative)\r\n",
      "\r\n",
      "\r",
      "          ncbi-blas   0%[                    ]       0  --.-KB/s               \r",
      "         ncbi-blast   0%[                    ]  36.28K   147KB/s               \r",
      "        ncbi-blast-   0%[                    ]  73.05K   154KB/s               \r",
      "       ncbi-blast-2   0%[                    ] 128.20K   181KB/s               \r",
      "      ncbi-blast-2.   1%[                    ] 200.31K   210KB/s               \r",
      "     ncbi-blast-2.6   1%[                    ] 289.40K   238KB/s               \r",
      "    ncbi-blast-2.6.   2%[                    ] 396.87K   266KB/s               \r",
      "   ncbi-blast-2.6.0   2%[                    ] 526.96K   302KB/s               \r",
      "  ncbi-blast-2.6.0+   3%[                    ] 688.16K   347KB/s               \r",
      " ncbi-blast-2.6.0+-   4%[                    ] 891.79K   408KB/s               \r",
      "ncbi-blast-2.6.0+-s   5%[>                   ]   1.12M   479KB/s               \r",
      "cbi-blast-2.6.0+-sr   7%[>                   ]   1.42M   562KB/s               \r",
      "bi-blast-2.6.0+-src   9%[>                   ]   1.80M   662KB/s               \r",
      "i-blast-2.6.0+-src.  12%[=>                  ]   2.29M   784KB/s               \r",
      "-blast-2.6.0+-src.t  15%[==>                 ]   2.91M   933KB/s    eta 18s    \r",
      "blast-2.6.0+-src.ta  19%[==>                 ]   3.67M  1.08MB/s    eta 18s    \r",
      "last-2.6.0+-src.tar  24%[===>                ]   4.60M  1.28MB/s    eta 18s    \r",
      "ast-2.6.0+-src.tar.  30%[=====>              ]   5.73M  1.51MB/s    eta 18s    \r",
      "st-2.6.0+-src.tar.g  37%[======>             ]   7.11M  1.78MB/s    eta 18s    \r",
      "t-2.6.0+-src.tar.gz  45%[========>           ]   8.77M  2.09MB/s    eta 5s     \r",
      "-2.6.0+-src.tar.gz.  56%[==========>         ]  10.78M  2.45MB/s    eta 5s     \r",
      "2.6.0+-src.tar.gz.1  69%[============>       ]  13.21M  3.02MB/s    eta 5s     \r",
      ".6.0+-src.tar.gz.1   84%[===============>    ]  16.11M  3.70MB/s    eta 5s     \r",
      "ncbi-blast-2.6.0+-s 100%[===================>]  19.10M  4.27MB/s    in 4.9s    \r\n",
      "\r\n",
      "2017-05-16 15:14:54 (3.87 MB/s) - ‘ncbi-blast-2.6.0+-src.tar.gz.1’ saved [20025526]\r\n",
      "\r\n"
     ]
    }
   ],
   "source": [
    "## To install\n"
   ]
  },
  {
   "cell_type": "code",
   "execution_count": null,
   "metadata": {
    "collapsed": true
   },
   "outputs": [],
   "source": [
    "cd  ncbi-blast-2.6.0+-src/c++\n",
    "./configure --prefix=$(pwd)\n",
    "time make\n",
    "time make install\n",
    "\n"
   ]
  }
 ],
 "metadata": {
  "kernelspec": {
   "display_name": "Bash",
   "language": "bash",
   "name": "bash"
  },
  "language_info": {
   "codemirror_mode": "shell",
   "file_extension": ".sh",
   "mimetype": "text/x-sh",
   "name": "bash"
  }
 },
 "nbformat": 4,
 "nbformat_minor": 0
}
