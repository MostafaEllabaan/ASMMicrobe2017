{
 "cells": [
  {
   "cell_type": "code",
   "execution_count": 1,
   "metadata": {
    "collapsed": false
   },
   "outputs": [
    {
     "name": "stdout",
     "output_type": "stream",
     "text": []
    }
   ],
   "source": [
    "# Give an overview about CARD \n",
    "## downlod database\n",
    "## create blast databases\n",
    "## create blast \n",
    "## run blast database\n",
    "## check quality of ARG\n",
    "## report good quality ARG. "
   ]
  },
  {
   "cell_type": "code",
   "execution_count": null,
   "metadata": {
    "collapsed": true
   },
   "outputs": [],
   "source": [
    "## to download the most updated version of resfinder\n",
    "mkdir $ASM/Databases/Resfinder\n",
    "cd $ASM/Databases/Resfinder\n",
    "git clone https://bitbucket.org/genomicepidemiology/resfinder_db.git\n",
    "cd resfinder_db\n",
    "\n",
    "\n",
    "## make sure all files have a linux format\n",
    "\n",
    "ls *fsa | while read file; do dos2unix $file; done \n",
    "\n",
    "\n",
    "## compile them all in one file.\n",
    "\n",
    "cat *.fsa > ../All.resfinder.fsa\n",
    "\n",
    "\n",
    "\n",
    "##ls *fsa | while read file; do cat $file | awk -F\"\\t\" '{print } END {print \"\\n\"}'; done  > ../All.resfinder.fsa\n",
    "\n",
    "## OPTIONAL\n",
    " ls *fsa | while read file ; do f=$(echo \"$file\" | cut -f1 -d.); grep \">\" $file | \n",
    " sed 's/>//g' | awk -F\"\\t\" -v class=\"$f\" '{print $1\"\\t\"class}'; done | \n",
    " awk -F\"\\t\" 'BEGIN {print \"Gene\\tClass\"} {print $1\"\\t\"$2 }'  > ../Resfinder.gene.class\n",
    "\n",
    "cd ..\n",
    "\n",
    "\n",
    "## OPTIONAL\n",
    "## translate the NA resfinder to protein\n",
    "$EmbossFolder/transeq -sequence All.resfinder.fsa -outseq All.resfinder.AA.fa -frame 1\n",
    "\n",
    "head All.resfinder.prot.fa\n",
    "sed 's/_[1-6]$//g' All.resfinder.AA.fa  | head \n",
    "\n",
    "sed 's/_[1-6]$//g' All.resfinder.AA.fa -i\n",
    "\n",
    "mkdir blastNA  ## blastAA\n",
    "\n",
    "## OPTIONAL\n",
    "## compiling blast Protein database for Resfinder\n",
    "cd blastAA\n",
    "$blastExecFolder/makeblastdb -in ../All.resfinder.AA.fa -title RESFINDERProt \\\n",
    "-out RESFINDERProt -input_type fasta   -hash_index -dbtype prot\n",
    "\n",
    "echo \"export RESFINDERProt=$(pwd)/RESFINDERProt\" >> ~/.bashrc\n",
    "tail -n 1 ~/.bashrc\n",
    "source ~/.bashrc\n",
    "\n",
    "cd ..\n",
    "## compiling blast Nucleotides database for Resfinder\n",
    "\n",
    "\n",
    "## install binary blast \n",
    "\n",
    "cd blastNA\n",
    "\n",
    "$blastExecFolder/makeblastdb -in ../All.resfinder.fsa -title RESFINDERNucl \\\n",
    "-out RESFINDERNucl -input_type fasta   -hash_index -dbtype nucl\n",
    "\n",
    "## REMOVE IT\n",
    "echo \"export RESFINDERNucl=$(pwd)/RESFINDERNucl\" >> ~/.bashrc\n",
    "tail -n 1 ~/.bashrc\n",
    "source ~/.bashrc\n",
    "\n",
    "\n"
   ]
  },
  {
   "cell_type": "code",
   "execution_count": null,
   "metadata": {
    "collapsed": true
   },
   "outputs": [],
   "source": [
    "## Run CARD databses\n",
    "\n",
    "cd $ASM/Data\n",
    "mkdir Resfinder\n",
    "cd Resfinder\n",
    "## nucleotide versus Resfinder nucleotide\n",
    "\n",
    "## replace  RESFINDERNucl with right path.\n",
    "time $blastExecFolder/blastn -query ../orfs.nucleotide.fa -db $RESFINDERNucl -outfmt 6 \\\n",
    " -max_target_seqs 1 -evalue 1E-50 -word_size 6 -num_threads 1 -out orf.resfinder.NA.versus.NA.tab \n",
    " \n",
    " \n",
    "## protein versus Resfinder nucleotide\n",
    "$blastExecFolder/tblastn -query ../orfs.protein.fa -db $RESFINDERNucl -outfmt 6 \\\n",
    " -max_target_seqs 10 -evalue 1E-50 -word_size 3 -num_threads 28 -out orf.resfinder.AA.versus.NA.tab \n",
    " \n",
    "## protein versus Resfinder nucleotide\n",
    "$blastExecFolder/tblastx -query ../orfs.nucleotide.fa -db $RESFINDERNucl -outfmt 6 \\\n",
    " -max_target_seqs 10 -evalue 1E-50 -word_size 3 -num_threads 28 -out orf.resfinder.trans.NA.versus.NA.tab \n",
    " \n",
    "## protein versus Resfinder protein\n",
    "$blastExecFolder/blastp -query  ../orfs.protein.fa -db $RESFINDERProt -outfmt 6 \\\n",
    " -max_target_seqs 10 -evalue 1E-50 -word_size 6 -num_threads 28  -out orf.resfinder.AA.versus.AA.tab \n",
    " \n",
    "## nucleotide versus Resfinder protein\n",
    "$blastExecFolder/blastx -query ../orfs.nucleotide.fa -db $RESFINDERProt -outfmt 6 \\\n",
    " -max_target_seqs 10 -evalue 1E-50 -word_size 6 -num_threads 28  -out orf.resfinder.NA.versus.AA.tab \n",
    "\n",
    "\n"
   ]
  },
  {
   "cell_type": "code",
   "execution_count": null,
   "metadata": {
    "collapsed": true
   },
   "outputs": [],
   "source": [
    "## fruther annotation\n",
    "## maping gene to class\n",
    "\n",
    "## \n",
    "Resfinder.gene.class \n",
    "JoinTwoFilesBasedOnKeys.sh 2 1 $ASM/Databases/Resfinder/Resfinder.gene.class orf.resfinder.NA.versus.NA.tab \n",
    "\n",
    "## how many gene classes are there?\n",
    "## how many betalactamases are there?\n",
    "## how many inserts have resistance gene?\n"
   ]
  }
 ],
 "metadata": {
  "kernelspec": {
   "display_name": "Bash",
   "language": "bash",
   "name": "bash"
  },
  "language_info": {
   "codemirror_mode": "shell",
   "file_extension": ".sh",
   "mimetype": "text/x-sh",
   "name": "bash"
  }
 },
 "nbformat": 4,
 "nbformat_minor": 0
}
