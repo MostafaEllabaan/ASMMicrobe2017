{
 "cells": [
  {
   "cell_type": "markdown",
   "metadata": {},
   "source": [
    "## Main Folders"
   ]
  },
  {
   "cell_type": "markdown",
   "metadata": {
    "collapsed": false
   },
   "source": [
    "mkdir ASM\n",
    "cd ASM\n",
    "mkdir Databases Programs Data Scripts\n",
    "\n",
    "ls\n",
    "\n",
    "echo \"export ASM=$(pwd)\" >> ~/.bashrc\n",
    "source ~/.bashrc\n",
    "\n",
    "tail -n 1 ~/.bashrc\n",
    "\n",
    "ls $ASM\n",
    "\n",
    "\n"
   ]
  }
 ],
 "metadata": {
  "kernelspec": {
   "display_name": "Bash",
   "language": "bash",
   "name": "bash"
  },
  "language_info": {
   "codemirror_mode": "shell",
   "file_extension": ".sh",
   "mimetype": "text/x-sh",
   "name": "bash"
  }
 },
 "nbformat": 4,
 "nbformat_minor": 0
}
