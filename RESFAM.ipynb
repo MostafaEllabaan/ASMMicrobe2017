{
 "cells": [
  {
   "cell_type": "code",
   "execution_count": null,
   "metadata": {
    "collapsed": true
   },
   "outputs": [],
   "source": [
    "# Give an overview about CARD \n",
    "## downlod database\n",
    "## create hmm databases\n",
    "## create hmm \n",
    "## run hmm search. \n",
    "## check quality of ARG\n",
    "## report good quality ARG. "
   ]
  }
 ],
 "metadata": {
  "kernelspec": {
   "display_name": "Bash",
   "language": "bash",
   "name": "bash"
  },
  "language_info": {
   "codemirror_mode": "shell",
   "file_extension": ".sh",
   "mimetype": "text/x-sh",
   "name": "bash"
  }
 },
 "nbformat": 4,
 "nbformat_minor": 0
}
