{
 "cells": [
  {
   "cell_type": "code",
   "execution_count": 1,
   "metadata": {
    "collapsed": false
   },
   "outputs": [
    {
     "name": "stdout",
     "output_type": "stream",
     "text": []
    }
   ],
   "source": [
    "# Give an overview about CARD \n",
    "## downlod database\n",
    "## create blast databases\n",
    "## create blast \n",
    "## run blast database\n",
    "## check quality of ARG\n",
    "## report good quality ARG. "
   ]
  },
  {
   "cell_type": "code",
   "execution_count": null,
   "metadata": {
    "collapsed": true
   },
   "outputs": [],
   "source": [
    "# getting and installing\n",
    "cd $ASM/Databases\n",
    "mkdir ARDB\n",
    "cd ARDB\n",
    "\n",
    "mkdir RawData\n",
    "cd RawData\n",
    "\n",
    "wget ftp://ftp.cbcb.umd.edu/pub/data/ARDB/ARDBflatFiles.tar.gz\n",
    "wget ftp://ftp.cbcb.umd.edu/pub/data/ARDB/ardbAnno1.0.tar.gz\n",
    "\n",
    "\n",
    "tar -xvf ardbAnno1.0.tar.gz \n",
    "tar -xvf ARDBflatFiles.tar.gz\n",
    "\n",
    "cp  ardbAnno1.0/blastdb/resisGenes.pfasta ../\n",
    "\n",
    "\n",
    "cd ..\n",
    "\n",
    "## TODO prepare annotation file\n",
    "grep \">\" resisGenes.pfasta  | sed 's/>//g'  | awk '{print $1\"\\t\"$0}' | sort  > resisGenes.annotation.tab\n",
    "\n",
    "mkdir blastAA\n",
    "\n",
    "\n",
    "cd blastAA\n",
    "$blastExecFolder/makeblastdb -in ../resisGenes.pfasta -title ARDBProt \\\n",
    "-out ARDBProt -input_type fasta   -hash_index -dbtype prot\n",
    "\n",
    "echo \"export ARDBProt=$(pwd)/ARDBProt\" >> ~/.bashrc\n",
    "tail -n 1 ~/.bashrc\n",
    "source ~/.bashrc\n",
    "\n",
    "cd ..\n",
    "\n",
    "\n",
    "\n",
    "\n"
   ]
  },
  {
   "cell_type": "code",
   "execution_count": null,
   "metadata": {
    "collapsed": true
   },
   "outputs": [],
   "source": [
    "## Run ARDB databases\n",
    "\n",
    "cd $ASM/Data\n",
    "mkdir ARDB\n",
    "cd ARDB\n",
    " \n",
    "## protein versus card protein\n",
    "$blastExecFolder/blastp -query ../orfs.protein.fa -db $ARDBProt -outfmt 6 \\\n",
    " -max_target_seqs 10 -evalue 1E-50 -word_size 6 -num_threads 28  -out orf.ARDB.AA.versus.AA.tab \n",
    " \n",
    "\n",
    "join -1 2 -2  1 <(sort -k2,2 orf.ARDB.AA.versus.AA.tab) \\\n",
    "$ASM/Databases/ARDB/resisGenes.annotation.tab -t $'\\t' >  orf.ARDB.AA.versus.AA.tab.final.annotation\n",
    " \n"
   ]
  },
  {
   "cell_type": "code",
   "execution_count": null,
   "metadata": {
    "collapsed": true
   },
   "outputs": [],
   "source": [
    "## add annotation regarding class \n",
    "## add annotation regarding "
   ]
  }
 ],
 "metadata": {
  "kernelspec": {
   "display_name": "Bash",
   "language": "bash",
   "name": "bash"
  },
  "language_info": {
   "codemirror_mode": "shell",
   "file_extension": ".sh",
   "mimetype": "text/x-sh",
   "name": "bash"
  }
 },
 "nbformat": 4,
 "nbformat_minor": 0
}
